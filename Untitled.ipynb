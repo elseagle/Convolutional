{
 "cells": [
  {
   "cell_type": "code",
   "execution_count": 10,
   "metadata": {},
   "outputs": [],
   "source": [
    "from keras.models import Sequential\n",
    "from keras.layers import Convolution2D\n",
    "from keras.layers import MaxPool2D\n",
    "from keras.layers import Flatten\n",
    "from keras.layers import Dense\n"
   ]
  },
  {
   "cell_type": "code",
   "execution_count": 11,
   "metadata": {},
   "outputs": [],
   "source": [
    "#Initializing CNN\n",
    "classifier = Sequential()"
   ]
  },
  {
   "cell_type": "code",
   "execution_count": 12,
   "metadata": {},
   "outputs": [
    {
     "name": "stderr",
     "output_type": "stream",
     "text": [
      "/home/oluwasogo/.local/share/virtualenvs/oluwasogo-lBFvzgwL/lib/python3.6/site-packages/ipykernel_launcher.py:2: UserWarning: Update your `Conv2D` call to the Keras 2 API: `Conv2D(32, (3, 3), input_shape=(64, 64, 3..., activation=\"relu\")`\n",
      "  \n"
     ]
    }
   ],
   "source": [
    "#Convolution\n",
    "classifier.add(Convolution2D(32, 3, 3, input_shape= (64, 64, 3), activation = 'relu'))"
   ]
  },
  {
   "cell_type": "code",
   "execution_count": 13,
   "metadata": {},
   "outputs": [],
   "source": [
    "#Pooling\n",
    "classifier.add(MaxPool2D(pool_size= (2, 2)))"
   ]
  },
  {
   "cell_type": "code",
   "execution_count": 14,
   "metadata": {},
   "outputs": [
    {
     "name": "stderr",
     "output_type": "stream",
     "text": [
      "/home/oluwasogo/.local/share/virtualenvs/oluwasogo-lBFvzgwL/lib/python3.6/site-packages/ipykernel_launcher.py:2: UserWarning: Update your `Conv2D` call to the Keras 2 API: `Conv2D(32, (3, 3), activation=\"relu\")`\n",
      "  \n"
     ]
    }
   ],
   "source": [
    "#Convolution 2\n",
    "classifier.add(Convolution2D(32, 3, 3, activation = 'relu'))"
   ]
  },
  {
   "cell_type": "code",
   "execution_count": 15,
   "metadata": {},
   "outputs": [],
   "source": [
    "#Pooling 2\n",
    "classifier.add(MaxPool2D(pool_size= (2, 2)))"
   ]
  },
  {
   "cell_type": "code",
   "execution_count": 16,
   "metadata": {},
   "outputs": [
    {
     "name": "stderr",
     "output_type": "stream",
     "text": [
      "/home/oluwasogo/.local/share/virtualenvs/oluwasogo-lBFvzgwL/lib/python3.6/site-packages/ipykernel_launcher.py:2: UserWarning: Update your `Conv2D` call to the Keras 2 API: `Conv2D(64, (3, 3), activation=\"relu\")`\n",
      "  \n"
     ]
    }
   ],
   "source": [
    "#Convolution 3\n",
    "classifier.add(Convolution2D(64, 3, 3, activation = 'relu'))"
   ]
  },
  {
   "cell_type": "code",
   "execution_count": 17,
   "metadata": {},
   "outputs": [],
   "source": [
    "#Pooling 3\n",
    "classifier.add(MaxPool2D(pool_size= (2, 2)))"
   ]
  },
  {
   "cell_type": "code",
   "execution_count": 18,
   "metadata": {},
   "outputs": [],
   "source": [
    "#flattening\n",
    "classifier.add(Flatten())"
   ]
  },
  {
   "cell_type": "code",
   "execution_count": 19,
   "metadata": {},
   "outputs": [],
   "source": [
    "classifier.add(Dense(units =128, activation='relu')) #output_dim replaced by units\n",
    "classifier.add(Dense(units=1, activation='sigmoid'))"
   ]
  },
  {
   "cell_type": "code",
   "execution_count": 20,
   "metadata": {},
   "outputs": [],
   "source": [
    "classifier.compile(optimizer='adam', loss = 'binary_crossentropy', metrics = ['accuracy'])"
   ]
  },
  {
   "cell_type": "code",
   "execution_count": 21,
   "metadata": {},
   "outputs": [
    {
     "name": "stdout",
     "output_type": "stream",
     "text": [
      "Found 8000 images belonging to 2 classes.\n",
      "Found 2000 images belonging to 2 classes.\n",
      "Epoch 1/25\n",
      "8000/8000 [==============================] - 3183s 398ms/step - loss: 0.3465 - acc: 0.8378 - val_loss: 0.4893 - val_acc: 0.8302\n",
      "Epoch 2/25\n",
      "8000/8000 [==============================] - 2918s 365ms/step - loss: 0.1053 - acc: 0.9592 - val_loss: 0.8176 - val_acc: 0.8276\n",
      "Epoch 3/25\n",
      "8000/8000 [==============================] - 2895s 362ms/step - loss: 0.0550 - acc: 0.9803 - val_loss: 0.9072 - val_acc: 0.8416\n",
      "Epoch 4/25\n",
      "8000/8000 [==============================] - 2931s 366ms/step - loss: 0.0422 - acc: 0.9852 - val_loss: 0.9302 - val_acc: 0.8363\n",
      "Epoch 5/25\n",
      "8000/8000 [==============================] - 2911s 364ms/step - loss: 0.0333 - acc: 0.9886 - val_loss: 1.0956 - val_acc: 0.8220\n",
      "Epoch 6/25\n",
      "8000/8000 [==============================] - 2935s 367ms/step - loss: 0.0292 - acc: 0.9900 - val_loss: 1.1492 - val_acc: 0.8200\n",
      "Epoch 7/25\n",
      "8000/8000 [==============================] - 2924s 365ms/step - loss: 0.0252 - acc: 0.9915 - val_loss: 1.2227 - val_acc: 0.8221\n",
      "Epoch 8/25\n",
      "8000/8000 [==============================] - 2966s 371ms/step - loss: 0.0237 - acc: 0.9921 - val_loss: 1.1172 - val_acc: 0.8285\n",
      "Epoch 9/25\n",
      "8000/8000 [==============================] - 2819s 352ms/step - loss: 0.0215 - acc: 0.9928 - val_loss: 1.0925 - val_acc: 0.8289\n",
      "Epoch 10/25\n",
      "8000/8000 [==============================] - 2783s 348ms/step - loss: 0.0193 - acc: 0.9935 - val_loss: 1.2879 - val_acc: 0.8258\n",
      "Epoch 11/25\n",
      "8000/8000 [==============================] - 2905s 363ms/step - loss: 0.0165 - acc: 0.9945 - val_loss: 1.1736 - val_acc: 0.8304\n",
      "Epoch 12/25\n",
      "8000/8000 [==============================] - 4289s 536ms/step - loss: 0.0166 - acc: 0.9947 - val_loss: 1.2807 - val_acc: 0.8164\n",
      "Epoch 13/25\n",
      "8000/8000 [==============================] - 5632s 704ms/step - loss: 0.0154 - acc: 0.9952 - val_loss: 1.2617 - val_acc: 0.8351\n",
      "Epoch 14/25\n",
      "8000/8000 [==============================] - 2873s 359ms/step - loss: 0.0146 - acc: 0.9954 - val_loss: 1.2729 - val_acc: 0.8372\n",
      "Epoch 15/25\n",
      "8000/8000 [==============================] - 4892s 611ms/step - loss: 0.0138 - acc: 0.9956 - val_loss: 1.2869 - val_acc: 0.8409\n",
      "Epoch 16/25\n",
      "8000/8000 [==============================] - 2785s 348ms/step - loss: 0.0140 - acc: 0.9958 - val_loss: 1.3546 - val_acc: 0.8187\n",
      "Epoch 17/25\n",
      "8000/8000 [==============================] - 3210s 401ms/step - loss: 0.0120 - acc: 0.9962 - val_loss: 1.4203 - val_acc: 0.8206\n",
      "Epoch 18/25\n",
      "8000/8000 [==============================] - 2874s 359ms/step - loss: 0.0135 - acc: 0.9958 - val_loss: 1.4508 - val_acc: 0.8279\n",
      "Epoch 19/25\n",
      "8000/8000 [==============================] - 2985s 373ms/step - loss: 0.0124 - acc: 0.9962 - val_loss: 1.2814 - val_acc: 0.8290\n",
      "Epoch 20/25\n",
      "8000/8000 [==============================] - 2855s 357ms/step - loss: 0.0122 - acc: 0.9961 - val_loss: 1.3772 - val_acc: 0.8340\n",
      "Epoch 21/25\n",
      "8000/8000 [==============================] - 2779s 347ms/step - loss: 0.0123 - acc: 0.9963 - val_loss: 1.3747 - val_acc: 0.8335\n",
      "Epoch 22/25\n",
      "8000/8000 [==============================] - 3397s 425ms/step - loss: 0.0116 - acc: 0.9964 - val_loss: 1.3024 - val_acc: 0.8432\n",
      "Epoch 23/25\n",
      "8000/8000 [==============================] - 2876s 360ms/step - loss: 0.0118 - acc: 0.9965 - val_loss: 1.4360 - val_acc: 0.8325\n",
      "Epoch 24/25\n",
      "8000/8000 [==============================] - 2749s 344ms/step - loss: 0.0122 - acc: 0.9965 - val_loss: 1.3818 - val_acc: 0.8371\n",
      "Epoch 25/25\n",
      "8000/8000 [==============================] - 2841s 355ms/step - loss: 0.0118 - acc: 0.9966 - val_loss: 1.5805 - val_acc: 0.8311\n"
     ]
    },
    {
     "data": {
      "text/plain": [
       "<keras.callbacks.History at 0x7fdff8442c88>"
      ]
     },
     "execution_count": 21,
     "metadata": {},
     "output_type": "execute_result"
    }
   ],
   "source": [
    "#fitting CNN to images\n",
    "from keras.preprocessing.image import ImageDataGenerator\n",
    "train_datagen = ImageDataGenerator(\n",
    "        rescale=1./255,\n",
    "        shear_range=0.2,\n",
    "        zoom_range=0.2,\n",
    "        horizontal_flip=True)\n",
    "\n",
    "test_datagen = ImageDataGenerator(rescale=1./255)\n",
    "\n",
    "training_set = train_datagen.flow_from_directory(\n",
    "                                                'training_set',\n",
    "                                                target_size=(64, 64),\n",
    "                                                batch_size=32,\n",
    "                                                class_mode='binary')\n",
    "\n",
    "test_set = test_datagen.flow_from_directory(\n",
    "                                            'test_set',\n",
    "                                            target_size=(64, 64),\n",
    "                                            batch_size=32,\n",
    "                                            class_mode='binary')\n",
    "\n",
    "classifier.fit_generator(\n",
    "                    training_set,\n",
    "                    steps_per_epoch=8000,\n",
    "                    epochs=25,\n",
    "                    validation_data=test_set,\n",
    "                    validation_steps=2000)"
   ]
  },
  {
   "cell_type": "code",
   "execution_count": null,
   "metadata": {},
   "outputs": [],
   "source": []
  }
 ],
 "metadata": {
  "kernelspec": {
   "display_name": "Python 3",
   "language": "python",
   "name": "python3"
  },
  "language_info": {
   "codemirror_mode": {
    "name": "ipython",
    "version": 3
   },
   "file_extension": ".py",
   "mimetype": "text/x-python",
   "name": "python",
   "nbconvert_exporter": "python",
   "pygments_lexer": "ipython3",
   "version": "3.6.5rc1"
  }
 },
 "nbformat": 4,
 "nbformat_minor": 2
}
